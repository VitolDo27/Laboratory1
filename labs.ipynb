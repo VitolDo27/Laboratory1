{
  "nbformat": 4,
  "nbformat_minor": 0,
  "metadata": {
    "colab": {
      "name": "labs.ipynb",
      "provenance": [],
      "authorship_tag": "ABX9TyNAnra4l1UCHTyQPh0KY3ER",
      "include_colab_link": true
    },
    "kernelspec": {
      "name": "python3",
      "display_name": "Python 3"
    },
    "language_info": {
      "name": "python"
    }
  },
  "cells": [
    {
      "cell_type": "markdown",
      "metadata": {
        "id": "view-in-github",
        "colab_type": "text"
      },
      "source": [
        "<a href=\"https://colab.research.google.com/github/VitolDo27/Laboratory1/blob/main/labs.ipynb\" target=\"_parent\"><img src=\"https://colab.research.google.com/assets/colab-badge.svg\" alt=\"Open In Colab\"/></a>"
      ]
    },
    {
      "cell_type": "markdown",
      "metadata": {
        "id": "ir_GIjS2_XBv"
      },
      "source": [
        "# ** Задача № 1**\n",
        "Из множества точек на плоскости, заданных координатами, выбрать точки, наиболее и наименее удаленные от прямой ***Ax+By+C=0***.\n"
      ]
    },
    {
      "cell_type": "code",
      "metadata": {
        "colab": {
          "base_uri": "https://localhost:8080/"
        },
        "id": "wP7poGvUYXwh",
        "outputId": "4d3016e5-f208-4d46-c276-7e153cc7427a"
      },
      "source": [
        "import math\n",
        "\n",
        "def distance(x, y):\n",
        "  '''\n",
        "     Функция нахождения расстояния точки до прямой\n",
        "     \n",
        "     Уравнение прямой Ax + By + C = 0\n",
        "    \n",
        "     Нахождение расстояния по формуле Ax + By + C / Корень из(A^2 + B^2)\n",
        "\n",
        "     Возвращаемое число dis - расстояние от точки до прямой\n",
        "  \n",
        "  '''\n",
        "  A = 5;\n",
        "  B = 3;\n",
        "  C = 10;\n",
        "  #вычисляем расстояние от точки до прямой \n",
        "  dis = abs(A * x + B * y + C) / math.sqrt(A ** 2 + B ** 2);\n",
        "  return dis\n",
        "\n",
        "i = 0;\n",
        "n = int(input(\"Введите количество точек: \"));\n",
        "m = [] #пустой список\n",
        "#цикл для ввода точек\n",
        "while i != n:\n",
        "  print(\"Введите координаты точки №\",i+1,\":\");\n",
        "  x1 = int(input(\"x0:\")); #Координата X n-точки\n",
        "  y1 = int(input(\"y0:\")); #Координата Y n-точки\n",
        "  m.append(distance(x1,y1)); #заполняем список \n",
        "  i = i + 1;\n",
        "for j in range (n):\n",
        "  if (m[j] == max(m)): #находим точку наиболее отдаленную \n",
        "    print(\"Наиболее удалённая точка №\",j + 1,\", Расстояние:\",max(m)); \n",
        "  if (m[j] == min(m)): #находим точку наименее отдаленную \n",
        "    print(\"Наименее удалённая точка №\",j + 1,\", Расстояние:\",min(m)); \n",
        "\n",
        "print(distance.__doc__)\n",
        "print(abs.__doc__)\n",
        "print(math.__doc__)\n",
        "print(math.sqrt.__doc__)"
      ],
      "execution_count": null,
      "outputs": [
        {
          "output_type": "stream",
          "name": "stdout",
          "text": [
            "Введите количество точек: 3\n",
            "Введите координаты точки № 1 :\n",
            "x0:1\n",
            "y0:2\n",
            "Введите координаты точки № 2 :\n",
            "x0:4\n",
            "y0:5\n",
            "Введите координаты точки № 3 :\n",
            "x0:6\n",
            "y0:7\n",
            "Наименее удалённая точка № 1 , Расстояние: 3.601470287992685\n",
            "Наиболее удалённая точка № 3 , Расстояние: 10.46141369369304\n",
            "\n",
            "     Функция нахождения расстояния точки до прямой\n",
            "     \n",
            "     Уравнение прямой Ax + By + C = 0\n",
            "    \n",
            "     Нахождение расстояния по формуле Ax + By + C / Корень из(A^2 + B^2)\n",
            "\n",
            "     Возвращаемое число dis - расстояние от точки до прямой\n",
            "  \n",
            "  \n",
            "Return the absolute value of the argument.\n",
            "This module provides access to the mathematical functions\n",
            "defined by the C standard.\n",
            "Return the square root of x.\n"
          ]
        }
      ]
    }
  ]
}